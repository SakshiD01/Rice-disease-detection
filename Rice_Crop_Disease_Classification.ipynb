{
  "cells": [
    {
      "cell_type": "code",
      "execution_count": null,
      "metadata": {
        "colab": {
          "base_uri": "https://localhost:8080/"
        },
        "id": "AasSMZuXNe59",
        "outputId": "006eecdf-aed4-4911-a0d6-8c9eb94e6663"
      },
      "outputs": [
        {
          "name": "stdout",
          "output_type": "stream",
          "text": [
            "Drive already mounted at /content/drive; to attempt to forcibly remount, call drive.mount(\"/content/drive\", force_remount=True).\n"
          ]
        }
      ],
      "source": [
        "from google.colab import drive\n",
        "drive.mount('/content/drive')\n"
      ]
    },
    {
      "cell_type": "code",
      "execution_count": null,
      "metadata": {
        "id": "57BgyMAUVlL9"
      },
      "outputs": [],
      "source": [
        "import os\n",
        "import glob\n",
        "import numpy as np\n",
        "import matplotlib.pyplot as plt\n",
        "from skimage import io, color\n",
        "import cv2\n",
        "%matplotlib inline"
      ]
    },
    {
      "cell_type": "code",
      "execution_count": null,
      "metadata": {
        "id": "Dwu7AekpV25f"
      },
      "outputs": [],
      "source": [
        "dataset_path = '/content/drive/MyDrive/Rice_Diseases1'\n",
        "class_names = ['Bacterial Blight Disease', 'Blast Disease', 'Brown Spot Disease', 'False Smut Disease']"
      ]
    },
    {
      "cell_type": "code",
      "execution_count": null,
      "metadata": {
        "id": "b-xMT1bQV81R"
      },
      "outputs": [],
      "source": [
        "import os\n",
        "import glob\n",
        "import cv2\n",
        "import numpy as np\n",
        "from sklearn.model_selection import train_test_split\n",
        "from keras.applications import VGG16\n",
        "from keras.models import Sequential\n",
        "from keras.layers import Flatten, Dense, Dropout, Conv2D, MaxPool2D\n",
        "from keras.optimizers import Adam\n",
        "from tensorflow.keras.preprocessing.image import ImageDataGenerator\n",
        "#from keras.preprocessing.image import ImageDataGenerator\n",
        "\n",
        "# Set your input directory\n",
        "input_path = '/content/drive/MyDrive/Rice_Diseases1'\n",
        "target_size = (224, 224)\n"
      ]
    },
    {
      "cell_type": "code",
      "execution_count": null,
      "metadata": {
        "id": "S8bhH1Z7Wkqx"
      },
      "outputs": [],
      "source": [
        "# Function to load and preprocess images\n",
        "def load_and_preprocess_images(input_dir):\n",
        "    images = []\n",
        "    labels = []\n",
        "\n",
        "    for class_name in class_names:\n",
        "        numeral_path = os.path.join(input_dir, class_name, '*.jpg')\n",
        "        numeral_paths = glob.glob(numeral_path)\n",
        "\n",
        "        for image_path in numeral_paths:\n",
        "            binarized_image = cv2.imread(image_path, cv2.IMREAD_COLOR)  # Read as 3 channels\n",
        "            resized_image = cv2.resize(binarized_image, target_size)\n",
        "            images.append(resized_image)\n",
        "            labels.append(class_names.index(class_name))\n",
        "\n",
        "    return np.array(images), np.array(labels)\n",
        "\n",
        "# Load and preprocess images\n",
        "images, labels = load_and_preprocess_images(input_path)\n"
      ]
    },
    {
      "cell_type": "code",
      "execution_count": null,
      "metadata": {
        "id": "zT7QULpcW3oP"
      },
      "outputs": [],
      "source": [
        "# Split the data into training and test sets\n",
        "X_train, X_test, y_train, y_test = train_test_split(images, labels, test_size=0.2, random_state=2)\n"
      ]
    },
    {
      "cell_type": "code",
      "execution_count": null,
      "metadata": {
        "id": "J3KAprO7XYlf"
      },
      "outputs": [],
      "source": [
        "# Create a data generator with data augmentation\n",
        "datagen = ImageDataGenerator(\n",
        "    rotation_range=30,\n",
        "    width_shift_range=0.2,\n",
        "    height_shift_range=0.2,\n",
        "    shear_range=0.2,\n",
        "    zoom_range=0.2,\n",
        "    horizontal_flip=True,\n",
        "    fill_mode='nearest'\n",
        ")\n",
        "\n",
        "datagen.fit(X_train)\n"
      ]
    },
    {
      "cell_type": "code",
      "execution_count": null,
      "metadata": {
        "id": "GDRG_qZbXbr1"
      },
      "outputs": [],
      "source": [
        "# Load the VGG16 model with pre-trained weights (excluding the top classification layers)\n",
        "base_model = VGG16(weights='imagenet', include_top=False, input_shape=(*target_size, 3))  # Update input shape\n",
        "\n",
        "# Create a custom model on top of VGG16\n",
        "model = Sequential()\n",
        "model.add(base_model)\n",
        "model.add(Flatten())\n",
        "model.add(Dense(1024, activation='relu'))\n",
        "#model.add(Dropout(0.4))  # Reduce dropout rate\n",
        "model.add(Dense(512, activation='relu'))\n",
        "#model.add(Dropout(0.4))  # Reduce dropout rate\n",
        "model.add(Dense(len(class_names), activation='softmax'))\n",
        "\n",
        "\n",
        "# Freeze the layers of VGG16\n",
        "for layer in base_model.layers:\n",
        "    layer.trainable = False\n",
        "\n",
        "# Compile the model\n",
        "model.compile(optimizer=Adam(learning_rate=1e-4), loss='sparse_categorical_crossentropy', metrics=['accuracy'])\n"
      ]
    },
    {
      "cell_type": "code",
      "execution_count": null,
      "metadata": {
        "colab": {
          "base_uri": "https://localhost:8080/"
        },
        "id": "hkNMrCBBXjgK",
        "outputId": "1c04d60b-1d37-4bc4-f873-db12d6f9e0d2"
      },
      "outputs": [
        {
          "name": "stdout",
          "output_type": "stream",
          "text": [
            "Epoch 1/15\n"
          ]
        },
        {
          "name": "stderr",
          "output_type": "stream",
          "text": [
            "/usr/local/lib/python3.10/dist-packages/keras/src/trainers/data_adapters/py_dataset_adapter.py:121: UserWarning: Your `PyDataset` class should call `super().__init__(**kwargs)` in its constructor. `**kwargs` can include `workers`, `use_multiprocessing`, `max_queue_size`. Do not pass these arguments to `fit()`, as they will be ignored.\n",
            "  self._warn_if_super_not_called()\n"
          ]
        },
        {
          "name": "stdout",
          "output_type": "stream",
          "text": [
            "\u001b[1m5/5\u001b[0m \u001b[32m━━━━━━━━━━━━━━━━━━━━\u001b[0m\u001b[37m\u001b[0m \u001b[1m116s\u001b[0m 23s/step - accuracy: 0.4095 - loss: 6.4524 - val_accuracy: 0.5882 - val_loss: 3.5282\n",
            "Epoch 2/15\n",
            "\u001b[1m5/5\u001b[0m \u001b[32m━━━━━━━━━━━━━━━━━━━━\u001b[0m\u001b[37m\u001b[0m \u001b[1m140s\u001b[0m 22s/step - accuracy: 0.6918 - loss: 3.6659 - val_accuracy: 0.8529 - val_loss: 1.3928\n",
            "Epoch 3/15\n",
            "\u001b[1m5/5\u001b[0m \u001b[32m━━━━━━━━━━━━━━━━━━━━\u001b[0m\u001b[37m\u001b[0m \u001b[1m128s\u001b[0m 27s/step - accuracy: 0.8274 - loss: 1.6979 - val_accuracy: 0.8824 - val_loss: 1.5753\n",
            "Epoch 4/15\n",
            "\u001b[1m5/5\u001b[0m \u001b[32m━━━━━━━━━━━━━━━━━━━━\u001b[0m\u001b[37m\u001b[0m \u001b[1m125s\u001b[0m 22s/step - accuracy: 0.9191 - loss: 0.6742 - val_accuracy: 0.8824 - val_loss: 0.6838\n",
            "Epoch 5/15\n",
            "\u001b[1m5/5\u001b[0m \u001b[32m━━━━━━━━━━━━━━━━━━━━\u001b[0m\u001b[37m\u001b[0m \u001b[1m115s\u001b[0m 23s/step - accuracy: 0.9119 - loss: 0.4921 - val_accuracy: 0.8529 - val_loss: 0.5684\n",
            "Epoch 6/15\n",
            "\u001b[1m5/5\u001b[0m \u001b[32m━━━━━━━━━━━━━━━━━━━━\u001b[0m\u001b[37m\u001b[0m \u001b[1m156s\u001b[0m 27s/step - accuracy: 0.9247 - loss: 0.4512 - val_accuracy: 0.8824 - val_loss: 1.0583\n",
            "Epoch 7/15\n",
            "\u001b[1m5/5\u001b[0m \u001b[32m━━━━━━━━━━━━━━━━━━━━\u001b[0m\u001b[37m\u001b[0m \u001b[1m129s\u001b[0m 27s/step - accuracy: 0.9340 - loss: 0.5288 - val_accuracy: 0.9118 - val_loss: 1.3509\n",
            "Epoch 8/15\n",
            "\u001b[1m5/5\u001b[0m \u001b[32m━━━━━━━━━━━━━━━━━━━━\u001b[0m\u001b[37m\u001b[0m \u001b[1m125s\u001b[0m 22s/step - accuracy: 0.9726 - loss: 0.1458 - val_accuracy: 0.9118 - val_loss: 1.0787\n",
            "Epoch 9/15\n",
            "\u001b[1m5/5\u001b[0m \u001b[32m━━━━━━━━━━━━━━━━━━━━\u001b[0m\u001b[37m\u001b[0m \u001b[1m109s\u001b[0m 22s/step - accuracy: 1.0000 - loss: 0.0110 - val_accuracy: 0.9118 - val_loss: 0.7554\n",
            "Epoch 10/15\n",
            "\u001b[1m5/5\u001b[0m \u001b[32m━━━━━━━━━━━━━━━━━━━━\u001b[0m\u001b[37m\u001b[0m \u001b[1m111s\u001b[0m 22s/step - accuracy: 0.9777 - loss: 0.1548 - val_accuracy: 0.9118 - val_loss: 0.4804\n",
            "Epoch 11/15\n",
            "\u001b[1m5/5\u001b[0m \u001b[32m━━━━━━━━━━━━━━━━━━━━\u001b[0m\u001b[37m\u001b[0m \u001b[1m160s\u001b[0m 27s/step - accuracy: 0.9933 - loss: 0.0354 - val_accuracy: 0.9118 - val_loss: 0.5761\n",
            "Epoch 12/15\n",
            "\u001b[1m5/5\u001b[0m \u001b[32m━━━━━━━━━━━━━━━━━━━━\u001b[0m\u001b[37m\u001b[0m \u001b[1m111s\u001b[0m 27s/step - accuracy: 0.9770 - loss: 0.1769 - val_accuracy: 0.9412 - val_loss: 0.7934\n",
            "Epoch 13/15\n",
            "\u001b[1m5/5\u001b[0m \u001b[32m━━━━━━━━━━━━━━━━━━━━\u001b[0m\u001b[37m\u001b[0m \u001b[1m108s\u001b[0m 22s/step - accuracy: 0.9599 - loss: 0.2667 - val_accuracy: 0.9118 - val_loss: 0.8879\n",
            "Epoch 14/15\n",
            "\u001b[1m5/5\u001b[0m \u001b[32m━━━━━━━━━━━━━━━━━━━━\u001b[0m\u001b[37m\u001b[0m \u001b[1m144s\u001b[0m 22s/step - accuracy: 0.9652 - loss: 0.1153 - val_accuracy: 0.9706 - val_loss: 0.3600\n",
            "Epoch 15/15\n",
            "\u001b[1m5/5\u001b[0m \u001b[32m━━━━━━━━━━━━━━━━━━━━\u001b[0m\u001b[37m\u001b[0m \u001b[1m143s\u001b[0m 27s/step - accuracy: 0.9603 - loss: 0.2059 - val_accuracy: 0.9118 - val_loss: 0.9372\n"
          ]
        }
      ],
      "source": [
        "# Train the model\n",
        "history = model.fit(datagen.flow(X_train, y_train, batch_size=32), epochs=15, validation_data=(X_test, y_test))  # number of epochs\n"
      ]
    },
    {
      "cell_type": "code",
      "execution_count": null,
      "metadata": {
        "colab": {
          "base_uri": "https://localhost:8080/"
        },
        "id": "8YrEktOOk892",
        "outputId": "6a43b10c-3bce-406a-92c3-a898b1b2cace"
      },
      "outputs": [
        {
          "name": "stdout",
          "output_type": "stream",
          "text": [
            "\u001b[1m2/2\u001b[0m \u001b[32m━━━━━━━━━━━━━━━━━━━━\u001b[0m\u001b[37m\u001b[0m \u001b[1m21s\u001b[0m 1s/step - accuracy: 0.9099 - loss: 0.9567\n",
            "Accuracy on the test set: 0.9117646813392639\n",
            "\u001b[1m5/5\u001b[0m \u001b[32m━━━━━━━━━━━━━━━━━━━━\u001b[0m\u001b[37m\u001b[0m \u001b[1m85s\u001b[0m 16s/step - accuracy: 0.9962 - loss: 0.0086\n",
            "Accuracy on the training set: 0.9924242496490479\n"
          ]
        }
      ],
      "source": [
        "# Evaluate the model on the test set\n",
        "loss, test_accuracy = model.evaluate(X_test, y_test)\n",
        "print(f'Accuracy on the test set: {test_accuracy}')\n",
        "\n",
        "# Evaluate the model on the training set\n",
        "train_loss, train_accuracy = model.evaluate(X_train, y_train)\n",
        "print(f'Accuracy on the training set: {train_accuracy}')\n"
      ]
    },
    {
      "cell_type": "code",
      "execution_count": null,
      "metadata": {
        "colab": {
          "base_uri": "https://localhost:8080/"
        },
        "id": "97FKWOYSm3eo",
        "outputId": "a9c5150e-717b-49e5-aa36-9d6b359e7a2d"
      },
      "outputs": [
        {
          "name": "stdout",
          "output_type": "stream",
          "text": [
            "\u001b[1m2/2\u001b[0m \u001b[32m━━━━━━━━━━━━━━━━━━━━\u001b[0m\u001b[37m\u001b[0m \u001b[1m21s\u001b[0m 1s/step\n",
            "Class: 0\n",
            "Sensitivity: 0.9230769230769231\n",
            "Specificity: 1.0\n",
            "Precision: 1.0\n",
            "F1 Score: 0.9600000000000001\n",
            "Accuracy: 0.9705882352941176\n",
            "\n",
            "Class: 1\n",
            "Sensitivity: 0.6666666666666666\n",
            "Specificity: 1.0\n",
            "Precision: 1.0\n",
            "F1 Score: 0.8\n",
            "Accuracy: 0.9411764705882353\n",
            "\n",
            "Class: 2\n",
            "Sensitivity: 1.0\n",
            "Specificity: 0.8928571428571429\n",
            "Precision: 0.6666666666666666\n",
            "F1 Score: 0.8\n",
            "Accuracy: 0.9117647058823529\n",
            "\n",
            "Class: 3\n",
            "Sensitivity: 1.0\n",
            "Specificity: 1.0\n",
            "Precision: 1.0\n",
            "F1 Score: 1.0\n",
            "Accuracy: 1.0\n",
            "\n",
            "Average Accuracy: 0.9558823529411764\n"
          ]
        }
      ],
      "source": [
        "import numpy as np\n",
        "from sklearn.metrics import confusion_matrix\n",
        "\n",
        "# Predict the classes using the trained model\n",
        "y_pred = model.predict(X_test)\n",
        "y_pred_classes = np.argmax(y_pred, axis=1)\n",
        "\n",
        "# Calculate true positives, true negatives, false positives, and false negatives for each class\n",
        "conf_matrix = confusion_matrix(y_test, y_pred_classes)\n",
        "TP = np.diag(conf_matrix)\n",
        "FP = np.sum(conf_matrix, axis=0) - TP\n",
        "FN = np.sum(conf_matrix, axis=1) - TP\n",
        "TN = np.sum(conf_matrix) - (TP + FP + FN)\n",
        "\n",
        "# Calculate sensitivity, specificity, precision, F1 score, and accuracy for each class\n",
        "sensitivity = TP / (TP + FN)\n",
        "specificity = TN / (TN + FP)\n",
        "precision = TP / (TP + FP)\n",
        "f1_score = 2 * ((precision * sensitivity) / (precision + sensitivity))\n",
        "accuracy = (TP + TN) / (TP + TN + FP + FN)\n",
        "\n",
        "# Average accuracy\n",
        "average_accuracy = np.mean(accuracy)\n",
        "\n",
        "# Display results\n",
        "for i in range(len(class_names)):\n",
        "    print(\"Class:\", i)\n",
        "    print(\"Sensitivity:\", sensitivity[i])\n",
        "    print(\"Specificity:\", specificity[i])\n",
        "    print(\"Precision:\", precision[i])\n",
        "    print(\"F1 Score:\", f1_score[i])\n",
        "    print(\"Accuracy:\", accuracy[i])\n",
        "    print()\n",
        "\n",
        "print(\"Average Accuracy:\", average_accuracy)\n"
      ]
    },
    {
      "cell_type": "code",
      "execution_count": null,
      "metadata": {
        "colab": {
          "background_save": true,
          "base_uri": "https://localhost:8080/"
        },
        "id": "D9hOVN7folvG",
        "outputId": "a35408e8-5182-4da5-eef0-d9fd6b69be14"
      },
      "outputs": [
        {
          "name": "stdout",
          "output_type": "stream",
          "text": [
            "\u001b[1m1/1\u001b[0m \u001b[32m━━━━━━━━━━━━━━━━━━━━\u001b[0m\u001b[37m\u001b[0m \u001b[1m1s\u001b[0m 853ms/step\n",
            "Predicted Class: False Smut Disease\n",
            "Class Probabilities: [[0.31807947 0.03740577 0.2802012  0.36431354]]\n"
          ]
        }
      ],
      "source": [
        "import cv2\n",
        "import numpy as np\n",
        "\n",
        "# Function to preprocess the input image (resize, normalize)\n",
        "def preprocess_single_image(image_path, target_size=(224, 224)):\n",
        "    image = cv2.imread(image_path)  # Load the image\n",
        "    resized_image = cv2.resize(image, target_size)  # Resize to 224x224\n",
        "    normalized_image = resized_image / 255.0  # Normalize pixel values to [0, 1]\n",
        "    reshaped_image = np.expand_dims(normalized_image, axis=0)  # Reshape to add batch dimension\n",
        "    return reshaped_image\n",
        "\n",
        "# Function to predict the disease class from a single input image\n",
        "def predict_disease_class(model, image_path):\n",
        "    # Preprocess the image\n",
        "    preprocessed_image = preprocess_single_image(image_path)\n",
        "\n",
        "    # Predict the class probabilities\n",
        "    predictions = model.predict(preprocessed_image)\n",
        "\n",
        "    # Get the index of the class with the highest probability\n",
        "    predicted_class_idx = np.argmax(predictions, axis=1)[0]\n",
        "\n",
        "    # Get the class label using the class index\n",
        "    predicted_class_label = class_names[predicted_class_idx]\n",
        "\n",
        "    # Output the predicted class label and probabilities\n",
        "    print(f'Predicted Class: {predicted_class_label}')\n",
        "    print(f'Class Probabilities: {predictions}')\n",
        "\n",
        "# Example usage:\n",
        "image_path = '/content/drive/MyDrive/Rice_Diseases1/False Smut Disease/FS (47).jpg'  # Specify your image path here\n",
        "predict_disease_class(model, image_path)\n"
      ]
    },
    {
      "cell_type": "code",
      "execution_count": null,
      "metadata": {
        "id": "SuieX_yWr9kj"
      },
      "outputs": [],
      "source": [
        "import pandas as pd\n",
        "\n",
        "# After training the model\n",
        "history_df = pd.DataFrame(history.history)\n",
        "history_df.to_csv('training_metrics.csv', index=True)\n"
      ]
    },
    {
      "cell_type": "code",
      "execution_count": null,
      "metadata": {
        "colab": {
          "base_uri": "https://localhost:8080/"
        },
        "id": "hP6bvEnHr-0W",
        "outputId": "170a4982-2109-4a18-db14-ff4f9cf3c128"
      },
      "outputs": [
        {
          "name": "stdout",
          "output_type": "stream",
          "text": [
            "\u001b[1m2/2\u001b[0m \u001b[32m━━━━━━━━━━━━━━━━━━━━\u001b[0m\u001b[37m\u001b[0m \u001b[1m45s\u001b[0m 2s/step\n"
          ]
        }
      ],
      "source": [
        "from sklearn.metrics import confusion_matrix\n",
        "\n",
        "# Predict the classes using the trained model\n",
        "y_pred = model.predict(X_test)\n",
        "y_pred_classes = np.argmax(y_pred, axis=1)\n",
        "\n",
        "# Calculate the confusion matrix\n",
        "conf_matrix = confusion_matrix(y_test, y_pred_classes)\n",
        "\n",
        "# Save the confusion matrix to a CSV file\n",
        "conf_matrix_df = pd.DataFrame(conf_matrix, index=class_names, columns=class_names)\n",
        "conf_matrix_df.to_csv('confusion_matrix.csv', index=True)\n"
      ]
    },
    {
      "cell_type": "code",
      "execution_count": null,
      "metadata": {
        "id": "kpGb5gsOsYbY"
      },
      "outputs": [],
      "source": [
        "from sklearn.metrics import precision_score, recall_score, f1_score\n",
        "\n",
        "# Calculate true positives, true negatives, false positives, and false negatives for each class\n",
        "TP = np.diag(conf_matrix)\n",
        "FP = np.sum(conf_matrix, axis=0) - TP\n",
        "FN = np.sum(conf_matrix, axis=1) - TP\n",
        "TN = np.sum(conf_matrix) - (TP + FP + FN)\n",
        "\n",
        "# Calculate sensitivity, specificity, precision, F1 score, and accuracy for each class\n",
        "sensitivity = TP / (TP + FN)\n",
        "specificity = TN / (TN + FP)\n",
        "precision = TP / (TP + FP)\n",
        "f1_score = 2 * ((precision * sensitivity) / (precision + sensitivity))\n",
        "accuracy = (TP + TN) / (TP + TN + FP + FN)\n",
        "\n",
        "# Create a DataFrame to save class-wise metrics\n",
        "class_metrics = pd.DataFrame({\n",
        "    'Class': class_names,\n",
        "    'Sensitivity': sensitivity,\n",
        "    'Specificity': specificity,\n",
        "    'Precision': precision,\n",
        "    'F1 Score': f1_score,\n",
        "    'Accuracy': accuracy\n",
        "})\n",
        "\n",
        "# Save class-wise metrics to a CSV file\n",
        "class_metrics.to_csv('class_metrics.csv', index=False)\n"
      ]
    },
    {
      "cell_type": "code",
      "execution_count": null,
      "metadata": {
        "id": "jIa-pfSPsd3n"
      },
      "outputs": [],
      "source": [
        "# Save true and predicted labels to a CSV file\n",
        "predictions_df = pd.DataFrame({\n",
        "    'True Labels': y_test,\n",
        "    'Predicted Labels': y_pred_classes\n",
        "})\n",
        "\n",
        "predictions_df.to_csv('predictions.csv', index=False)\n"
      ]
    },
    {
      "cell_type": "code",
      "execution_count": null,
      "metadata": {
        "colab": {
          "base_uri": "https://localhost:8080/",
          "height": 17
        },
        "id": "h8wm7HfKsznT",
        "outputId": "779f8fbe-8923-485c-de22-3679b39120c6"
      },
      "outputs": [
        {
          "data": {
            "application/javascript": [
              "\n",
              "    async function download(id, filename, size) {\n",
              "      if (!google.colab.kernel.accessAllowed) {\n",
              "        return;\n",
              "      }\n",
              "      const div = document.createElement('div');\n",
              "      const label = document.createElement('label');\n",
              "      label.textContent = `Downloading \"${filename}\": `;\n",
              "      div.appendChild(label);\n",
              "      const progress = document.createElement('progress');\n",
              "      progress.max = size;\n",
              "      div.appendChild(progress);\n",
              "      document.body.appendChild(div);\n",
              "\n",
              "      const buffers = [];\n",
              "      let downloaded = 0;\n",
              "\n",
              "      const channel = await google.colab.kernel.comms.open(id);\n",
              "      // Send a message to notify the kernel that we're ready.\n",
              "      channel.send({})\n",
              "\n",
              "      for await (const message of channel.messages) {\n",
              "        // Send a message to notify the kernel that we're ready.\n",
              "        channel.send({})\n",
              "        if (message.buffers) {\n",
              "          for (const buffer of message.buffers) {\n",
              "            buffers.push(buffer);\n",
              "            downloaded += buffer.byteLength;\n",
              "            progress.value = downloaded;\n",
              "          }\n",
              "        }\n",
              "      }\n",
              "      const blob = new Blob(buffers, {type: 'application/binary'});\n",
              "      const a = document.createElement('a');\n",
              "      a.href = window.URL.createObjectURL(blob);\n",
              "      a.download = filename;\n",
              "      div.appendChild(a);\n",
              "      a.click();\n",
              "      div.remove();\n",
              "    }\n",
              "  "
            ],
            "text/plain": [
              "<IPython.core.display.Javascript object>"
            ]
          },
          "metadata": {},
          "output_type": "display_data"
        },
        {
          "data": {
            "application/javascript": [
              "download(\"download_b52cbf25-b67a-4187-8440-553467c6c1c6\", \"training_metrics.csv\", 2407)"
            ],
            "text/plain": [
              "<IPython.core.display.Javascript object>"
            ]
          },
          "metadata": {},
          "output_type": "display_data"
        },
        {
          "data": {
            "application/javascript": [
              "\n",
              "    async function download(id, filename, size) {\n",
              "      if (!google.colab.kernel.accessAllowed) {\n",
              "        return;\n",
              "      }\n",
              "      const div = document.createElement('div');\n",
              "      const label = document.createElement('label');\n",
              "      label.textContent = `Downloading \"${filename}\": `;\n",
              "      div.appendChild(label);\n",
              "      const progress = document.createElement('progress');\n",
              "      progress.max = size;\n",
              "      div.appendChild(progress);\n",
              "      document.body.appendChild(div);\n",
              "\n",
              "      const buffers = [];\n",
              "      let downloaded = 0;\n",
              "\n",
              "      const channel = await google.colab.kernel.comms.open(id);\n",
              "      // Send a message to notify the kernel that we're ready.\n",
              "      channel.send({})\n",
              "\n",
              "      for await (const message of channel.messages) {\n",
              "        // Send a message to notify the kernel that we're ready.\n",
              "        channel.send({})\n",
              "        if (message.buffers) {\n",
              "          for (const buffer of message.buffers) {\n",
              "            buffers.push(buffer);\n",
              "            downloaded += buffer.byteLength;\n",
              "            progress.value = downloaded;\n",
              "          }\n",
              "        }\n",
              "      }\n",
              "      const blob = new Blob(buffers, {type: 'application/binary'});\n",
              "      const a = document.createElement('a');\n",
              "      a.href = window.URL.createObjectURL(blob);\n",
              "      a.download = filename;\n",
              "      div.appendChild(a);\n",
              "      a.click();\n",
              "      div.remove();\n",
              "    }\n",
              "  "
            ],
            "text/plain": [
              "<IPython.core.display.Javascript object>"
            ]
          },
          "metadata": {},
          "output_type": "display_data"
        },
        {
          "data": {
            "application/javascript": [
              "download(\"download_f155b6e5-3bc5-44da-baa4-1f0413799ad4\", \"confusion_matrix.csv\", 188)"
            ],
            "text/plain": [
              "<IPython.core.display.Javascript object>"
            ]
          },
          "metadata": {},
          "output_type": "display_data"
        },
        {
          "data": {
            "application/javascript": [
              "\n",
              "    async function download(id, filename, size) {\n",
              "      if (!google.colab.kernel.accessAllowed) {\n",
              "        return;\n",
              "      }\n",
              "      const div = document.createElement('div');\n",
              "      const label = document.createElement('label');\n",
              "      label.textContent = `Downloading \"${filename}\": `;\n",
              "      div.appendChild(label);\n",
              "      const progress = document.createElement('progress');\n",
              "      progress.max = size;\n",
              "      div.appendChild(progress);\n",
              "      document.body.appendChild(div);\n",
              "\n",
              "      const buffers = [];\n",
              "      let downloaded = 0;\n",
              "\n",
              "      const channel = await google.colab.kernel.comms.open(id);\n",
              "      // Send a message to notify the kernel that we're ready.\n",
              "      channel.send({})\n",
              "\n",
              "      for await (const message of channel.messages) {\n",
              "        // Send a message to notify the kernel that we're ready.\n",
              "        channel.send({})\n",
              "        if (message.buffers) {\n",
              "          for (const buffer of message.buffers) {\n",
              "            buffers.push(buffer);\n",
              "            downloaded += buffer.byteLength;\n",
              "            progress.value = downloaded;\n",
              "          }\n",
              "        }\n",
              "      }\n",
              "      const blob = new Blob(buffers, {type: 'application/binary'});\n",
              "      const a = document.createElement('a');\n",
              "      a.href = window.URL.createObjectURL(blob);\n",
              "      a.download = filename;\n",
              "      div.appendChild(a);\n",
              "      a.click();\n",
              "      div.remove();\n",
              "    }\n",
              "  "
            ],
            "text/plain": [
              "<IPython.core.display.Javascript object>"
            ]
          },
          "metadata": {},
          "output_type": "display_data"
        },
        {
          "data": {
            "application/javascript": [
              "download(\"download_a8a131b8-7784-4588-8807-fa8538a6c98e\", \"class_metrics.csv\", 365)"
            ],
            "text/plain": [
              "<IPython.core.display.Javascript object>"
            ]
          },
          "metadata": {},
          "output_type": "display_data"
        },
        {
          "data": {
            "application/javascript": [
              "\n",
              "    async function download(id, filename, size) {\n",
              "      if (!google.colab.kernel.accessAllowed) {\n",
              "        return;\n",
              "      }\n",
              "      const div = document.createElement('div');\n",
              "      const label = document.createElement('label');\n",
              "      label.textContent = `Downloading \"${filename}\": `;\n",
              "      div.appendChild(label);\n",
              "      const progress = document.createElement('progress');\n",
              "      progress.max = size;\n",
              "      div.appendChild(progress);\n",
              "      document.body.appendChild(div);\n",
              "\n",
              "      const buffers = [];\n",
              "      let downloaded = 0;\n",
              "\n",
              "      const channel = await google.colab.kernel.comms.open(id);\n",
              "      // Send a message to notify the kernel that we're ready.\n",
              "      channel.send({})\n",
              "\n",
              "      for await (const message of channel.messages) {\n",
              "        // Send a message to notify the kernel that we're ready.\n",
              "        channel.send({})\n",
              "        if (message.buffers) {\n",
              "          for (const buffer of message.buffers) {\n",
              "            buffers.push(buffer);\n",
              "            downloaded += buffer.byteLength;\n",
              "            progress.value = downloaded;\n",
              "          }\n",
              "        }\n",
              "      }\n",
              "      const blob = new Blob(buffers, {type: 'application/binary'});\n",
              "      const a = document.createElement('a');\n",
              "      a.href = window.URL.createObjectURL(blob);\n",
              "      a.download = filename;\n",
              "      div.appendChild(a);\n",
              "      a.click();\n",
              "      div.remove();\n",
              "    }\n",
              "  "
            ],
            "text/plain": [
              "<IPython.core.display.Javascript object>"
            ]
          },
          "metadata": {},
          "output_type": "display_data"
        },
        {
          "data": {
            "application/javascript": [
              "download(\"download_cd6ebc2d-0955-4684-9c5d-1e646ed94824\", \"predictions.csv\", 165)"
            ],
            "text/plain": [
              "<IPython.core.display.Javascript object>"
            ]
          },
          "metadata": {},
          "output_type": "display_data"
        }
      ],
      "source": [
        "from google.colab import files\n",
        "\n",
        "# Download files\n",
        "files.download('training_metrics.csv')\n",
        "files.download('confusion_matrix.csv')\n",
        "files.download('class_metrics.csv')\n",
        "files.download('predictions.csv')\n"
      ]
    },
    {
      "cell_type": "code",
      "execution_count": null,
      "metadata": {
        "colab": {
          "base_uri": "https://localhost:8080/",
          "height": 472
        },
        "id": "fwVLM4Bx5Yzp",
        "outputId": "35379eba-6c4f-4f23-b81a-23b3ff6312b1"
      },
      "outputs": [
        {
          "data": {
            "image/png": "[encoded data removed]",
            "text/plain": [
              "<Figure size 640x480 with 1 Axes>"
            ]
          },
          "metadata": {},
          "output_type": "display_data"
        }
      ],
      "source": [
        "plt.plot(history.history['accuracy'], label='train')\n",
        "plt.plot(history.history['val_accuracy'], label='test')\n",
        "plt.title('model accuracy')\n",
        "plt.xlabel('epoch')\n",
        "plt.ylabel('accuracy')\n",
        "plt.ylim([0.4, 1.5])\n",
        "plt.legend(loc='lower right')\n",
        "plt.show()"
      ]
    },
    {
      "cell_type": "code",
      "execution_count": null,
      "metadata": {
        "colab": {
          "base_uri": "https://localhost:8080/",
          "height": 489
        },
        "id": "eNFp3Ihg5odl",
        "outputId": "f0241003-dbb7-4c8c-e9f2-cbfc849ab1dd"
      },
      "outputs": [
        {
          "data": {
            "text/plain": [
              "<matplotlib.legend.Legend at 0x7f2ac6109120>"
            ]
          },
          "execution_count": 45,
          "metadata": {},
          "output_type": "execute_result"
        },
        {
          "data": {
            "image/png": "[encoded data removed]",
            "text/plain": [
              "<Figure size 640x480 with 1 Axes>"
            ]
          },
          "metadata": {},
          "output_type": "display_data"
        }
      ],
      "source": [
        "#plt.subplot(1, 2, 2)\n",
        "plt.plot(history.history['loss'])\n",
        "plt.plot(history.history['val_loss'])\n",
        "plt.title('model loss')\n",
        "plt.xlabel('epoch')\n",
        "plt.ylabel('loss')\n",
        "plt.legend(['Train', 'Test'], loc='upper left')"
      ]
    },
    {
      "cell_type": "code",
      "execution_count": null,
      "metadata": {
        "colab": {
          "base_uri": "https://localhost:8080/",
          "height": 211
        },
        "id": "QN-Hpv-uIbyS",
        "outputId": "98a0f8e4-d1d8-43f7-a0d5-bf7283a5f5e3"
      },
      "outputs": [
        {
          "ename": "NameError",
          "evalue": "name 'model' is not defined",
          "output_type": "error",
          "traceback": [
            "\u001b[0;31m---------------------------------------------------------------------------\u001b[0m",
            "\u001b[0;31mNameError\u001b[0m                                 Traceback (most recent call last)",
            "\u001b[0;32m<ipython-input-2-9fa817a1a269>\u001b[0m in \u001b[0;36m<cell line: 6>\u001b[0;34m()\u001b[0m\n\u001b[1;32m      4\u001b[0m \u001b[0;34m\u001b[0m\u001b[0m\n\u001b[1;32m      5\u001b[0m \u001b[0;31m# Generate predictions for the test set\u001b[0m\u001b[0;34m\u001b[0m\u001b[0;34m\u001b[0m\u001b[0m\n\u001b[0;32m----> 6\u001b[0;31m \u001b[0my_pred\u001b[0m \u001b[0;34m=\u001b[0m \u001b[0mmodel\u001b[0m\u001b[0;34m.\u001b[0m\u001b[0mpredict\u001b[0m\u001b[0;34m(\u001b[0m\u001b[0mX_test\u001b[0m\u001b[0;34m)\u001b[0m\u001b[0;34m\u001b[0m\u001b[0;34m\u001b[0m\u001b[0m\n\u001b[0m\u001b[1;32m      7\u001b[0m \u001b[0my_pred_classes\u001b[0m \u001b[0;34m=\u001b[0m \u001b[0mnp\u001b[0m\u001b[0;34m.\u001b[0m\u001b[0margmax\u001b[0m\u001b[0;34m(\u001b[0m\u001b[0my_pred\u001b[0m\u001b[0;34m,\u001b[0m \u001b[0maxis\u001b[0m\u001b[0;34m=\u001b[0m\u001b[0;36m1\u001b[0m\u001b[0;34m)\u001b[0m\u001b[0;34m\u001b[0m\u001b[0;34m\u001b[0m\u001b[0m\n\u001b[1;32m      8\u001b[0m \u001b[0;34m\u001b[0m\u001b[0m\n",
            "\u001b[0;31mNameError\u001b[0m: name 'model' is not defined"
          ]
        }
      ],
      "source": [
        "import matplotlib.pyplot as plt\n",
        "import seaborn as sns\n",
        "from sklearn.metrics import confusion_matrix\n",
        "\n",
        "# Generate predictions for the test set\n",
        "y_pred = model.predict(X_test)\n",
        "y_pred_classes = np.argmax(y_pred, axis=1)\n",
        "\n",
        "# Compute confusion matrix\n",
        "conf_matrix = confusion_matrix(y_test, y_pred_classes)\n",
        "\n",
        "# Plot confusion matrix using seaborn heatmap for better visualization\n",
        "plt.figure(figsize=(10, 8))\n",
        "sns.heatmap(conf_matrix, annot=True, fmt='d', cmap='Blues',\n",
        "            xticklabels=class_names, yticklabels=class_names)\n",
        "\n",
        "plt.xlabel('Predicted Class')\n",
        "plt.ylabel('True Class')\n",
        "plt.title('Confusion Matrix')\n",
        "plt.show()\n"
      ]
    }
  ],
  "metadata": {
    "colab": {
      "provenance": []
    },
    "kernelspec": {
      "display_name": "Python 3",
      "name": "python3"
    },
    "language_info": {
      "name": "python"
    }
  },
  "nbformat": 4,
  "nbformat_minor": 0
}
